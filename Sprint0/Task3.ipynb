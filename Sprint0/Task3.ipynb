{
 "cells": [
  {
   "cell_type": "markdown",
   "metadata": {},
   "source": [
    "<h1 style=\"color:DodgerBlue\">Индивидальный проект</h1>"
   ]
  },
  {
   "cell_type": "markdown",
   "metadata": {},
   "source": [
    "<h2 style=\"color:DodgerBlue\">Название проекта:</h2>\n",
    "\n",
    "----\n",
    "\n",
    "### Вариант задания № 17\n"
   ]
  },
  {
   "cell_type": "markdown",
   "metadata": {},
   "source": [
    "<h2 style=\"color:DodgerBlue\">Описание проекта:</h2>\n",
    "\n",
    "----\n",
    "Описание задачи:\n",
    "Создать базовый класс ShippingOption в C#, который будет представлять различные опции доставки. На основе этого класса разработать 2-3 производных класса, демонстрирующих принципы  наследования и полиморфизма. В каждом из классов должны быть реализованы новые атрибуты и методы, а также переопределены некоторые методы базового класса для демонстрации полиморфизма.\n",
    "\n",
    "Требования к базовому классу ShippingOption:\n",
    "•\n",
    "Атрибуты: ID опции доставки (DeliveryOptionId),\n",
    "Название опции доставки: (DeliveryOptionName), Стоимость доставки (Cost).\n",
    "•\n",
    "Методы:\n",
    "o CalculateCost(): метод для расчета стоимости доставки.\n",
    "o EstimateDeliveryTime(): метод для оценки времени доставки.\n",
    "o GetDeliveryDetails(): метод для получения деталей опции доставки.\n",
    "Требования к производным классам:\n",
    "1. СтандартнаяДоставка (StandardDelivery): Должна содержать дополнительные атрибуты, такие как Среднее время доставки (AverageDeliveryTime). Метод EstimateDeliveryTime() должен быть переопределен для предоставления среднего времени доставки.\n",
    "2. ЭкспрессДоставка (ExpressDelivery): Должна содержать дополнительные атрибуты, такие как Минимальное время доставки (MinDeliveryTime). Метод CalculateCost() должен быть переопределен для увеличения стоимости доставки в случае необходимости ускорения доставки.\n",
    "3. Самовывоз (Pickup) (если требуется третий класс): Должна содержать дополнительные атрибуты, такие как Адрес пункта самовывоза (PickupAddress). Метод GetDeliveryDetails() должен быть переопределен для отображения адреса пункта самовывоза."
   ]
  },
  {
   "cell_type": "markdown",
   "metadata": {},
   "source": [
    "<h2 style=\"color:DodgerBlue\">Реализация:</h2>\n",
    "\n",
    "----"
   ]
  },
  {
   "cell_type": "code",
   "execution_count": null,
   "metadata": {
    "dotnet_interactive": {
     "language": "csharp"
    },
    "polyglot_notebook": {
     "kernelName": "csharp"
    }
   },
   "outputs": [],
   "source": [
    "public class ShippingOption\n",
    "{\n",
    "    public int DeliveryOptionId { get; set; }\n",
    "    public string DeliveryOptionName { get; set; }\n",
    "    public decimal Cost { get; set; }\n",
    "\n",
    "    public virtual decimal CalculateCost()\n",
    "    {\n",
    "        return Cost;\n",
    "    }\n",
    "\n",
    "    public virtual string EstimateDeliveryTime()\n",
    "    {\n",
    "        return \"Неизвестное время доставки.\";\n",
    "    }\n",
    "\n",
    "    public virtual string GetDeliveryDetails()\n",
    "    {\n",
    "        return $\"ID: {DeliveryOptionId}, Название: {DeliveryOptionName}, Стоимость: {Cost} руб.\";\n",
    "    }\n",
    "}\n",
    "\n",
    "public class StandardDelivery : ShippingOption\n",
    "{\n",
    "    public int AverageDeliveryTime { get; set; } // В днях\n",
    "\n",
    "    public StandardDelivery()\n",
    "    {\n",
    "        DeliveryOptionId = 1;\n",
    "        DeliveryOptionName = \"Стандартная доставка\";\n",
    "        Cost = 300; // Стоимость стандартной доставки\n",
    "        AverageDeliveryTime = 5; // Среднее время доставки в днях\n",
    "    }\n",
    "\n",
    "    public override string EstimateDeliveryTime()\n",
    "    {\n",
    "        return $\"Среднее время доставки: {AverageDeliveryTime} дней.\";\n",
    "    }\n",
    "}\n",
    "\n",
    "public class ExpressDelivery : ShippingOption\n",
    "{\n",
    "    public int MinDeliveryTime { get; set; } // В днях\n",
    "\n",
    "    public ExpressDelivery()\n",
    "    {\n",
    "        DeliveryOptionId = 2;\n",
    "        DeliveryOptionName = \"Экспресс доставка\";\n",
    "        Cost = 600; // Базовая стоимость экспресс доставки\n",
    "        MinDeliveryTime = 1; // Минимальное время доставки в днях\n",
    "    }\n",
    "\n",
    "    public override decimal CalculateCost()\n",
    "    {\n",
    "        // Увеличиваем стоимость на 50% для срочной доставки\n",
    "        return Cost * 1.5m;\n",
    "    }\n",
    "\n",
    "    public override string EstimateDeliveryTime()\n",
    "    {\n",
    "        return $\"Минимальное время доставки: {MinDeliveryTime} день.\";\n",
    "    }\n",
    "}\n",
    "\n",
    "public class Pickup : ShippingOption\n",
    "{\n",
    "    public string PickupAddress { get; set; }\n",
    "\n",
    "    public Pickup()\n",
    "    {\n",
    "        DeliveryOptionId = 3;\n",
    "        DeliveryOptionName = \"Самовывоз\";\n",
    "        Cost = 0; // Самовывоз бесплатный\n",
    "        PickupAddress = \"Улица Примерная, дом 1\";\n",
    "    }\n",
    "\n",
    "    public override string GetDeliveryDetails()\n",
    "    {\n",
    "        return base.GetDeliveryDetails() + $\", Адрес пункта самовывоза: {PickupAddress}.\";\n",
    "    }\n",
    "}\n",
    "\n",
    "\n",
    "ShippingOption standardDelivery = new StandardDelivery();\n",
    "ShippingOption expressDelivery = new ExpressDelivery();\n",
    "ShippingOption pickup = new Pickup();\n",
    "\n",
    "// Вывод информации о стандартной доставке\n",
    "Console.WriteLine(standardDelivery.GetDeliveryDetails());\n",
    "Console.WriteLine(standardDelivery.EstimateDeliveryTime());\n",
    "Console.WriteLine($\"Стоимость: {standardDelivery.CalculateCost()} руб.\\n\");\n",
    "\n",
    "// Вывод информации об экспресс-доставке\n",
    "Console.WriteLine(expressDelivery.GetDeliveryDetails());\n",
    "Console.WriteLine(expressDelivery.EstimateDeliveryTime());\n",
    "Console.WriteLine($\"Стоимость: {expressDelivery.CalculateCost()} руб.\\n\");\n",
    "\n",
    "// Вывод информации о самовывозе\n",
    "Console.WriteLine(pickup.GetDeliveryDetails());\n",
    "Console.WriteLine($\"Стоимость: {pickup.CalculateCost()} руб.\");\n",
    " "
   ]
  }
 ],
 "metadata": {
  "kernelspec": {
   "display_name": ".NET (C#)",
   "language": "C#",
   "name": ".net-csharp"
  },
  "polyglot_notebook": {
   "kernelInfo": {
    "defaultKernelName": "csharp",
    "items": [
     {
      "aliases": [],
      "languageName": "csharp",
      "name": "csharp"
     }
    ]
   }
  }
 },
 "nbformat": 4,
 "nbformat_minor": 2
}
